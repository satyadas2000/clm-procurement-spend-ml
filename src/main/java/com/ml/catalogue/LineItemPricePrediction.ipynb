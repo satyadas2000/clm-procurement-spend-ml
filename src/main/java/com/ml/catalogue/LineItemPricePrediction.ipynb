{
 "cells": [
  {
   "cell_type": "markdown",
   "metadata": {},
   "source": [
    "# Line Item Price Prediction for Procurement/Sourcing- Satya Das"
   ]
  },
  {
   "cell_type": "code",
   "execution_count": 28,
   "metadata": {},
   "outputs": [
    {
     "data": {
      "text/plain": [
       "DataFrame[SNo: int, Delivery_in_days: int, Year_of_Mfg: int, Expiry_Year: int, Spec_1: double, Spec_2: int, Price: int, Spec_5_d: double, Manufactured_Company_d: double, Supplier_Country_d: double]"
      ]
     },
     "execution_count": 28,
     "metadata": {},
     "output_type": "execute_result"
    }
   ],
   "source": [
    "import numpy as np\n",
    "import pandas as pd\n",
    "from pyspark.ml.feature import VectorAssembler\n",
    "from pyspark.ml.feature import StringIndexer,StandardScaler,MinMaxScaler\n",
    "from pyspark.ml.feature import OneHotEncoder\n",
    "from pyspark.ml import Pipeline\n",
    "from pyspark.ml.regression import LinearRegression\n",
    "\n",
    "from pyspark.ml.clustering import KMeans,KMeansModel\n",
    "from pyspark.sql.functions import *\n",
    "from pyspark.sql.types import DoubleType\n",
    "from pyspark.sql.functions import udf\n",
    "\n",
    "sqlContext = SQLContext(sc)\n",
    "df = sqlContext.read.csv(\"D:\\\\bigdata\\\\spark\\\\testdata\\\\lineitem_sample.csv\", header=True, inferSchema=True)\n",
    "\n",
    "\n",
    "\n",
    "#as view columns are string categorical, we will change to double\n",
    "\n",
    "\n",
    "df=df.withColumn('Spec_5_d',when(df.Spec_5 == 'Windows',1.0).otherwise(2.0)).drop(df.Spec_5)\n",
    "#df=df.withColumn('Spec_3_d',when(df.Spec_3 == 'i-5',1.0).otherwise(2.0)).drop(df.Spec_3)\n",
    "df = df.withColumn(\"Spec_1\", df[\"Spec_1\"].cast(DoubleType()))\n",
    "\n",
    "\n",
    "def man_com_convert(cname):\n",
    "    if cname == 'IBM':\n",
    "        return 1.0\n",
    "    if cname == 'DELL':\n",
    "        return 2.0\n",
    "    if cname == 'HP':\n",
    "        return 3.0\n",
    "    return 0\n",
    "\n",
    "man_com_convert_udf = udf(man_com_convert, DoubleType())\n",
    "df = df.withColumn('Manufactured_Company_d',man_com_convert_udf(df['Manufactured_Company'])).drop(df.Manufactured_Company)\n",
    "def supp_country_convert(cname):\n",
    "    if cname == 'India':\n",
    "        return 1.0\n",
    "    if cname == 'USA':\n",
    "        return 2.0\n",
    "    return 0\n",
    "\n",
    "supp_country_convert_udf = udf(supp_country_convert, DoubleType())\n",
    "df = df.withColumn('Supplier_Country_d',supp_country_convert_udf(df['Supplier Country']))\n",
    "\n",
    "columns_to_drop = ['Supplier Country', 'Name', 'Supplier Name','Category','Sub-Category','Currency','Spec_3','Spec_4']\n",
    "df = df.drop(*columns_to_drop)\n",
    "\n",
    "df.na.drop()\n"
   ]
  },
  {
   "cell_type": "code",
   "execution_count": 29,
   "metadata": {},
   "outputs": [
    {
     "data": {
      "text/html": [
       "<div>\n",
       "<style scoped>\n",
       "    .dataframe tbody tr th:only-of-type {\n",
       "        vertical-align: middle;\n",
       "    }\n",
       "\n",
       "    .dataframe tbody tr th {\n",
       "        vertical-align: top;\n",
       "    }\n",
       "\n",
       "    .dataframe thead th {\n",
       "        text-align: right;\n",
       "    }\n",
       "</style>\n",
       "<table border=\"1\" class=\"dataframe\">\n",
       "  <thead>\n",
       "    <tr style=\"text-align: right;\">\n",
       "      <th></th>\n",
       "      <th>0</th>\n",
       "      <th>1</th>\n",
       "      <th>2</th>\n",
       "      <th>3</th>\n",
       "      <th>4</th>\n",
       "    </tr>\n",
       "  </thead>\n",
       "  <tbody>\n",
       "    <tr>\n",
       "      <th>summary</th>\n",
       "      <td>count</td>\n",
       "      <td>mean</td>\n",
       "      <td>stddev</td>\n",
       "      <td>min</td>\n",
       "      <td>max</td>\n",
       "    </tr>\n",
       "    <tr>\n",
       "      <th>SNo</th>\n",
       "      <td>31</td>\n",
       "      <td>16.0</td>\n",
       "      <td>9.092121131323903</td>\n",
       "      <td>1</td>\n",
       "      <td>31</td>\n",
       "    </tr>\n",
       "    <tr>\n",
       "      <th>Delivery_in_days</th>\n",
       "      <td>31</td>\n",
       "      <td>3.967741935483871</td>\n",
       "      <td>1.016001016001524</td>\n",
       "      <td>3</td>\n",
       "      <td>5</td>\n",
       "    </tr>\n",
       "    <tr>\n",
       "      <th>Year_of_Mfg</th>\n",
       "      <td>31</td>\n",
       "      <td>2017.8064516129032</td>\n",
       "      <td>0.40160966445124957</td>\n",
       "      <td>2017</td>\n",
       "      <td>2018</td>\n",
       "    </tr>\n",
       "    <tr>\n",
       "      <th>Expiry_Year</th>\n",
       "      <td>31</td>\n",
       "      <td>2021.8064516129032</td>\n",
       "      <td>0.40160966445124957</td>\n",
       "      <td>2021</td>\n",
       "      <td>2022</td>\n",
       "    </tr>\n",
       "    <tr>\n",
       "      <th>Spec_1</th>\n",
       "      <td>31</td>\n",
       "      <td>11.35483870967742</td>\n",
       "      <td>4.012882481016808</td>\n",
       "      <td>8.0</td>\n",
       "      <td>16.0</td>\n",
       "    </tr>\n",
       "    <tr>\n",
       "      <th>Spec_2</th>\n",
       "      <td>31</td>\n",
       "      <td>709.6774193548387</td>\n",
       "      <td>250.8051550635505</td>\n",
       "      <td>500</td>\n",
       "      <td>1000</td>\n",
       "    </tr>\n",
       "    <tr>\n",
       "      <th>Price</th>\n",
       "      <td>31</td>\n",
       "      <td>58161.290322580644</td>\n",
       "      <td>12709.830248521674</td>\n",
       "      <td>30000</td>\n",
       "      <td>90000</td>\n",
       "    </tr>\n",
       "    <tr>\n",
       "      <th>Spec_5_d</th>\n",
       "      <td>31</td>\n",
       "      <td>1.032258064516129</td>\n",
       "      <td>0.1796053020267749</td>\n",
       "      <td>1.0</td>\n",
       "      <td>2.0</td>\n",
       "    </tr>\n",
       "    <tr>\n",
       "      <th>Manufactured_Company_d</th>\n",
       "      <td>31</td>\n",
       "      <td>2.3548387096774195</td>\n",
       "      <td>0.9503819266229828</td>\n",
       "      <td>1.0</td>\n",
       "      <td>3.0</td>\n",
       "    </tr>\n",
       "    <tr>\n",
       "      <th>Supplier_Country_d</th>\n",
       "      <td>31</td>\n",
       "      <td>1.5161290322580645</td>\n",
       "      <td>0.5080005080007619</td>\n",
       "      <td>1.0</td>\n",
       "      <td>2.0</td>\n",
       "    </tr>\n",
       "  </tbody>\n",
       "</table>\n",
       "</div>"
      ],
      "text/plain": [
       "                            0                   1                    2      3  \\\n",
       "summary                 count                mean               stddev    min   \n",
       "SNo                        31                16.0    9.092121131323903      1   \n",
       "Delivery_in_days           31   3.967741935483871    1.016001016001524      3   \n",
       "Year_of_Mfg                31  2017.8064516129032  0.40160966445124957   2017   \n",
       "Expiry_Year                31  2021.8064516129032  0.40160966445124957   2021   \n",
       "Spec_1                     31   11.35483870967742    4.012882481016808    8.0   \n",
       "Spec_2                     31   709.6774193548387    250.8051550635505    500   \n",
       "Price                      31  58161.290322580644   12709.830248521674  30000   \n",
       "Spec_5_d                   31   1.032258064516129   0.1796053020267749    1.0   \n",
       "Manufactured_Company_d     31  2.3548387096774195   0.9503819266229828    1.0   \n",
       "Supplier_Country_d         31  1.5161290322580645   0.5080005080007619    1.0   \n",
       "\n",
       "                            4  \n",
       "summary                   max  \n",
       "SNo                        31  \n",
       "Delivery_in_days            5  \n",
       "Year_of_Mfg              2018  \n",
       "Expiry_Year              2022  \n",
       "Spec_1                   16.0  \n",
       "Spec_2                   1000  \n",
       "Price                   90000  \n",
       "Spec_5_d                  2.0  \n",
       "Manufactured_Company_d    3.0  \n",
       "Supplier_Country_d        2.0  "
      ]
     },
     "execution_count": 29,
     "metadata": {},
     "output_type": "execute_result"
    }
   ],
   "source": [
    "# Check mean values\n",
    "df.describe().toPandas().transpose()"
   ]
  },
  {
   "cell_type": "markdown",
   "metadata": {},
   "source": [
    "# Now First Step is Feature Selection"
   ]
  },
  {
   "cell_type": "code",
   "execution_count": 30,
   "metadata": {},
   "outputs": [
    {
     "name": "stdout",
     "output_type": "stream",
     "text": [
      "Correlation to Price for  SNo 0.5463283742179583\n",
      "Correlation to Price for  Delivery_in_days -0.22416004987181634\n",
      "Correlation to Price for  Year_of_Mfg 0.613639956721719\n",
      "Correlation to Price for  Expiry_Year 0.613639956721719\n",
      "Correlation to Price for  Spec_1 0.5955367470521578\n",
      "Correlation to Price for  Spec_2 0.4386833982108931\n",
      "Correlation to Price for  Price 1.0\n",
      "Correlation to Price for  Spec_5_d 0.02684930224701973\n",
      "Correlation to Price for  Manufactured_Company_d 0.4780280907969442\n",
      "Correlation to Price for  Supplier_Country_d 0.2241600498718162\n"
     ]
    }
   ],
   "source": [
    "\n",
    "\n",
    "import six\n",
    "for i in df.columns:\n",
    "    if not( isinstance(df.select(i).take(1)[0][0], six.string_types)):\n",
    "        print( \"Correlation to Price for \", i, df.stat.corr('Price',i))"
   ]
  },
  {
   "cell_type": "code",
   "execution_count": 31,
   "metadata": {},
   "outputs": [],
   "source": [
    "\n",
    "vectorAssembler = VectorAssembler(inputCols = ['Year_of_Mfg', 'Expiry_Year', 'Spec_1', 'Spec_2', 'Manufactured_Company_d', 'Supplier_Country_d'], outputCol = 'features')\n",
    "df = vectorAssembler.transform(df)\n"
   ]
  },
  {
   "cell_type": "code",
   "execution_count": 5,
   "metadata": {},
   "outputs": [
    {
     "name": "stdout",
     "output_type": "stream",
     "text": [
      "+----------------+-----------+-----------+------+------+--------+----------------------+------------------+\n",
      "|Delivery_in_days|Year_of_Mfg|Expiry_Year|Spec_1|Spec_2|Spec_5_d|Manufactured_Company_d|Supplier_Country_d|\n",
      "+----------------+-----------+-----------+------+------+--------+----------------------+------------------+\n",
      "|               5|       2018|       2022|   8.0|   500|     1.0|                   1.0|               1.0|\n",
      "|               5|       2017|       2021|   8.0|   500|     1.0|                   1.0|               1.0|\n",
      "|               5|       2018|       2022|   8.0|  1000|     1.0|                   1.0|               1.0|\n",
      "|               5|       2018|       2022|  16.0|  1000|     1.0|                   1.0|               1.0|\n",
      "|               5|       2018|       2022|  16.0|   500|     1.0|                   1.0|               1.0|\n",
      "|               5|       2017|       2021|   8.0|   500|     1.0|                   3.0|               1.0|\n",
      "|               5|       2018|       2022|  16.0|   500|     1.0|                   3.0|               1.0|\n",
      "|               5|       2018|       2022|   8.0|  1000|     1.0|                   3.0|               1.0|\n",
      "|               5|       2018|       2022|   8.0|   500|     1.0|                   3.0|               1.0|\n",
      "|               5|       2018|       2022|  16.0|  1000|     1.0|                   3.0|               1.0|\n",
      "|               5|       2017|       2021|   8.0|   500|     1.0|                   3.0|               1.0|\n",
      "|               5|       2018|       2022|  16.0|   500|     1.0|                   3.0|               1.0|\n",
      "|               5|       2018|       2022|   8.0|  1000|     1.0|                   3.0|               1.0|\n",
      "|               5|       2018|       2022|   8.0|   500|     1.0|                   3.0|               1.0|\n",
      "|               5|       2018|       2022|  16.0|  1000|     1.0|                   3.0|               1.0|\n",
      "|               3|       2018|       2022|   8.0|   500|     1.0|                   1.0|               2.0|\n",
      "|               3|       2017|       2021|   8.0|   500|     1.0|                   1.0|               2.0|\n",
      "|               3|       2018|       2022|   8.0|  1000|     1.0|                   1.0|               2.0|\n",
      "|               3|       2018|       2022|  16.0|  1000|     1.0|                   1.0|               2.0|\n",
      "|               3|       2018|       2022|  16.0|   500|     1.0|                   1.0|               2.0|\n",
      "+----------------+-----------+-----------+------+------+--------+----------------------+------------------+\n",
      "only showing top 20 rows\n",
      "\n"
     ]
    }
   ],
   "source": [
    "df.select('Delivery_in_days', 'Year_of_Mfg', 'Expiry_Year', 'Spec_1', 'Spec_2', 'Spec_5_d', 'Manufactured_Company_d', 'Supplier_Country_d').show()\n",
    "\n"
   ]
  },
  {
   "cell_type": "code",
   "execution_count": 6,
   "metadata": {},
   "outputs": [
    {
     "name": "stdout",
     "output_type": "stream",
     "text": [
      "+--------------------+-----+\n",
      "|            features|Price|\n",
      "+--------------------+-----+\n",
      "|[5.0,2018.0,2022....|40000|\n",
      "|[5.0,2017.0,2021....|30000|\n",
      "|[5.0,2018.0,2022....|50000|\n",
      "|[5.0,2018.0,2022....|60000|\n",
      "|[5.0,2018.0,2022....|55000|\n",
      "|[5.0,2017.0,2021....|40000|\n",
      "|[5.0,2018.0,2022....|60000|\n",
      "|[5.0,2018.0,2022....|55000|\n",
      "|[5.0,2018.0,2022....|52000|\n",
      "|[5.0,2018.0,2022....|65000|\n",
      "|[5.0,2017.0,2021....|50000|\n",
      "|[5.0,2018.0,2022....|70000|\n",
      "|[5.0,2018.0,2022....|65000|\n",
      "|[5.0,2018.0,2022....|62000|\n",
      "|[5.0,2018.0,2022....|75000|\n",
      "|[3.0,2018.0,2022....|45000|\n",
      "|[3.0,2017.0,2021....|35000|\n",
      "|[3.0,2018.0,2022....|55000|\n",
      "|[3.0,2018.0,2022....|65000|\n",
      "|[3.0,2018.0,2022....|60000|\n",
      "+--------------------+-----+\n",
      "only showing top 20 rows\n",
      "\n"
     ]
    }
   ],
   "source": [
    "dfnew = df.select(['features', 'Price'])\n",
    "dfnew.show()"
   ]
  },
  {
   "cell_type": "markdown",
   "metadata": {},
   "source": [
    "# First Step - we will use Linear Regression"
   ]
  },
  {
   "cell_type": "code",
   "execution_count": 32,
   "metadata": {},
   "outputs": [
    {
     "name": "stdout",
     "output_type": "stream",
     "text": [
      "Coefficients: [-1128.4066787008942,7185.416355524314,7185.416651897027,1526.6513784159288,8.843205351639696,-17545.41708797923,6276.102850753308,2256.8133574478547]\n",
      "Intercept: -28987218.444887202\n",
      "RMSE: 4465.783575\n",
      "r2: 0.881976\n"
     ]
    }
   ],
   "source": [
    "splits = dfnew.randomSplit([0.7, 0.3])\n",
    "train_df = splits[0]\n",
    "test_df = splits[1]\n",
    "\n",
    "lr = LinearRegression(featuresCol = 'features', labelCol='Price', maxIter=10, regParam=0.3, elasticNetParam=0.8)\n",
    "lr_model = lr.fit(train_df)\n",
    "print(\"Coefficients: \" + str(lr_model.coefficients))\n",
    "print(\"Intercept: \" + str(lr_model.intercept))\n",
    "\n",
    "trainingSummary = lr_model.summary\n",
    "print(\"RMSE: %f\" % trainingSummary.rootMeanSquaredError)\n",
    "print(\"r2: %f\" % trainingSummary.r2)"
   ]
  },
  {
   "cell_type": "code",
   "execution_count": 33,
   "metadata": {},
   "outputs": [
    {
     "name": "stdout",
     "output_type": "stream",
     "text": [
      "+-----------------+-----+\n",
      "|       prediction|Price|\n",
      "+-----------------+-----+\n",
      "|46539.50953545794|55000|\n",
      "|60910.34254287556|67000|\n",
      "|73123.55357020348|65000|\n",
      "|42025.88282060251|40000|\n",
      "|42025.88282060251|50000|\n",
      "|43844.51012651622|40000|\n",
      "|56396.71582802385|52000|\n",
      "|68609.92685535178|60000|\n",
      "+-----------------+-----+\n",
      "\n"
     ]
    }
   ],
   "source": [
    "lr_predictions = lr_model.transform(test_df)\n",
    "lr_predictions.select(\"prediction\",\"Price\").show()"
   ]
  },
  {
   "cell_type": "code",
   "execution_count": 34,
   "metadata": {},
   "outputs": [
    {
     "name": "stdout",
     "output_type": "stream",
     "text": [
      "R Squared (R2) on test data = 0.524867\n"
     ]
    }
   ],
   "source": [
    "from pyspark.ml.evaluation import RegressionEvaluator\n",
    "lr_evaluator = RegressionEvaluator(predictionCol=\"prediction\", \\\n",
    "                 labelCol=\"Price\",metricName=\"r2\")\n",
    "print(\"R Squared (R2) on test data = %g\" % lr_evaluator.evaluate(lr_predictions))"
   ]
  },
  {
   "cell_type": "code",
   "execution_count": 35,
   "metadata": {},
   "outputs": [
    {
     "name": "stdout",
     "output_type": "stream",
     "text": [
      "Root Mean Squared Error (RMSE) on test data = 6619.94\n"
     ]
    }
   ],
   "source": [
    "test_result = lr_model.evaluate(test_df)\n",
    "print(\"Root Mean Squared Error (RMSE) on test data = %g\" % test_result.rootMeanSquaredError)"
   ]
  },
  {
   "cell_type": "code",
   "execution_count": 36,
   "metadata": {},
   "outputs": [
    {
     "name": "stdout",
     "output_type": "stream",
     "text": [
      "numIterations: 11\n",
      "objectiveHistory: [0.5, 0.3723252375486345, 0.17440322370019581, 0.11071190053855992, 0.06869976291590323, 0.061615305283811206, 0.059399111387475195, 0.05912579431788037, 0.059060107535151805, 0.05904960568591024, 0.05904926859360576]\n",
      "+------------------+\n",
      "|         residuals|\n",
      "+------------------+\n",
      "| 1012.696166049689|\n",
      "|-1539.509535457939|\n",
      "| -3358.13684136793|\n",
      "|-3910.342542875558|\n",
      "| 2220.260482814163|\n",
      "|-5331.945218693465|\n",
      "| 4668.054781306535|\n",
      "|-571.3478686958551|\n",
      "| 1876.446429796517|\n",
      "| 7.049455486238003|\n",
      "| -7545.15624602139|\n",
      "| 12454.84375397861|\n",
      "|0.2608419582247734|\n",
      "| 526.3228809051216|\n",
      "| 5603.284171976149|\n",
      "|1733.8871976658702|\n",
      "|-5818.318503841758|\n",
      "| 4181.681496158242|\n",
      "|-1057.721153844148|\n",
      "|1390.0731446482241|\n",
      "+------------------+\n",
      "only showing top 20 rows\n",
      "\n"
     ]
    }
   ],
   "source": [
    "print(\"numIterations: %d\" % trainingSummary.totalIterations)\n",
    "print(\"objectiveHistory: %s\" % str(trainingSummary.objectiveHistory))\n",
    "trainingSummary.residuals.show()"
   ]
  },
  {
   "cell_type": "markdown",
   "metadata": {},
   "source": [
    "# we achieved worse RMSE and R squared on the test set and traing set\n"
   ]
  },
  {
   "cell_type": "markdown",
   "metadata": {},
   "source": [
    "# Now we will try different algorithm-Decision tree regression"
   ]
  },
  {
   "cell_type": "code",
   "execution_count": 37,
   "metadata": {},
   "outputs": [
    {
     "name": "stdout",
     "output_type": "stream",
     "text": [
      "Root Mean Squared Error (RMSE) on test data = 9033.12\n"
     ]
    }
   ],
   "source": [
    "from pyspark.ml.regression import DecisionTreeRegressor\n",
    "dt = DecisionTreeRegressor(featuresCol ='features', labelCol = 'Price')\n",
    "dt_model = dt.fit(train_df)\n",
    "dt_predictions = dt_model.transform(test_df)\n",
    "dt_evaluator = RegressionEvaluator(\n",
    "    labelCol=\"Price\", predictionCol=\"prediction\", metricName=\"rmse\")\n",
    "rmse = dt_evaluator.evaluate(dt_predictions)\n",
    "print(\"Root Mean Squared Error (RMSE) on test data = %g\" % rmse)"
   ]
  },
  {
   "cell_type": "code",
   "execution_count": 41,
   "metadata": {},
   "outputs": [
    {
     "data": {
      "text/plain": [
       "SparseVector(8, {0: 0.0545, 1: 0.5218, 3: 0.1527, 4: 0.0212, 5: 0.0489, 6: 0.201})"
      ]
     },
     "execution_count": 41,
     "metadata": {},
     "output_type": "execute_result"
    }
   ],
   "source": [
    "dt_model.featureImportances\n",
    "#['Year_of_Mfg', 'Expiry_Year', 'Spec_1', 'Spec_2', 'Manufactured_Company_d', 'Supplier_Country_d']"
   ]
  },
  {
   "cell_type": "code",
   "execution_count": 42,
   "metadata": {},
   "outputs": [],
   "source": [
    "#Spec_1 seems to be most important feature for this "
   ]
  },
  {
   "cell_type": "markdown",
   "metadata": {},
   "source": [
    "# Now we will try for Gradient-boosted tree regression"
   ]
  },
  {
   "cell_type": "code",
   "execution_count": 43,
   "metadata": {},
   "outputs": [
    {
     "name": "stdout",
     "output_type": "stream",
     "text": [
      "Root Mean Squared Error (RMSE) on test data = 8545.09\n"
     ]
    }
   ],
   "source": [
    "from pyspark.ml.regression import GBTRegressor\n",
    "gbt = GBTRegressor(featuresCol = 'features', labelCol = 'Price', maxIter=10)\n",
    "gbt_model = gbt.fit(train_df)\n",
    "gbt_predictions = gbt_model.transform(test_df)\n",
    "\n",
    "gbt_evaluator = RegressionEvaluator(\n",
    "    labelCol=\"Price\", predictionCol=\"prediction\", metricName=\"rmse\")\n",
    "rmse = gbt_evaluator.evaluate(gbt_predictions)\n",
    "print(\"Root Mean Squared Error (RMSE) on test data = %g\" % rmse)\n"
   ]
  },
  {
   "cell_type": "code",
   "execution_count": 44,
   "metadata": {},
   "outputs": [
    {
     "name": "stdout",
     "output_type": "stream",
     "text": [
      "+-----+-----------------+\n",
      "|Price|       prediction|\n",
      "+-----+-----------------+\n",
      "|55000|          45000.0|\n",
      "|67000|          57000.0|\n",
      "|65000|75447.39242666666|\n",
      "|40000|          45000.0|\n",
      "|50000|          45000.0|\n",
      "|40000|          45000.0|\n",
      "|52000|          62000.0|\n",
      "|60000|          70000.0|\n",
      "+-----+-----------------+\n",
      "\n"
     ]
    }
   ],
   "source": [
    "gbt_predictions.select('Price','prediction').show()"
   ]
  }
 ],
 "metadata": {
  "kernelspec": {
   "display_name": "Python 3",
   "language": "python",
   "name": "python3"
  },
  "language_info": {
   "codemirror_mode": {
    "name": "ipython",
    "version": 3
   },
   "file_extension": ".py",
   "mimetype": "text/x-python",
   "name": "python",
   "nbconvert_exporter": "python",
   "pygments_lexer": "ipython3",
   "version": "3.6.1"
  }
 },
 "nbformat": 4,
 "nbformat_minor": 2
}
