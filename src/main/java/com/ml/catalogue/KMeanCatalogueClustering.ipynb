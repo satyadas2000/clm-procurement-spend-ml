{
 "cells": [
  {
   "cell_type": "code",
   "execution_count": 22,
   "metadata": {},
   "outputs": [
    {
     "name": "stdout",
     "output_type": "stream",
     "text": [
      "+----+--------------------+--------------------+---------------+-----+--------+---------------------+--------------+\n",
      "|Line|   Short Description|           Hierarchy|Unit of Measure|Price|Currency|Delivery Time in Days|Price Quantity|\n",
      "+----+--------------------+--------------------+---------------+-----+--------+---------------------+--------------+\n",
      "|   1|Materials Enginee...|Personnel Monthly...|         Months|  475|     USD|                    1|             1|\n",
      "|   2|Materials Analyst...|Personnel Monthly...|         Months|  200|     USD|                    1|             1|\n",
      "|   3|Buyer - Non-National|Personnel Monthly...|         Months|  875|     USD|                    1|             1|\n",
      "|   4|Purchasing Analys...|Personnel Monthly...|         Months|  875|     USD|                    1|             1|\n",
      "|   5|Monthly Service C...|      Service Charge|         Months|  513|     USD|                    1|             1|\n",
      "|   6|Materials Enginee...|Personnel Monthly...|         Months|  475|     USD|                    1|             1|\n",
      "|   7|Materials Enginee...|Personnel Monthly...|         Months|  825|     USD|                    1|             1|\n",
      "|   8|Materials Analyst...|Personnel Monthly...|         Months|  200|     USD|                    1|             1|\n",
      "|   9|Materials Analyst...|Personnel Monthly...|         Months|  875|     USD|                    1|             1|\n",
      "|  10|    Buyer - National|Personnel Monthly...|         Months|  350|     USD|                    1|             1|\n",
      "|  11|Buyer - Non-National|Personnel Monthly...|         Months|  875|     USD|                    1|             1|\n",
      "|  12|Purchasing Analys...|Personnel Monthly...|         Months|  350|     USD|                    1|             1|\n",
      "|  13|Purchasing Analys...|Personnel Monthly...|         Months|  875|     USD|                    1|             1|\n",
      "|  14|Contractor's Repr...|Personnel Monthly...|         Months|  300|     USD|                    1|             1|\n",
      "|  15|Contractors Rep N...|Personnel Monthly...|         Months|   50|     USD|                    1|             1|\n",
      "|  16|Store Keeper - Na...|Personnel Monthly...|         Months|   34|     USD|                    1|             1|\n",
      "|  17|Store Keeper - No...|Personnel Monthly...|         Months|  789|     USD|                    1|             1|\n",
      "|  18|Technical Assista...|Personnel Monthly...|         Months|  300|     USD|                    1|             1|\n",
      "|  19|Technical Assista...|Personnel Monthly...|         Months|  400|     USD|                    1|             1|\n",
      "|  20|Clerk Typist - Na...|Personnel Monthly...|         Months|  600|     USD|                    1|             1|\n",
      "+----+--------------------+--------------------+---------------+-----+--------+---------------------+--------------+\n",
      "only showing top 20 rows\n",
      "\n",
      "+----+--------------------+--------------------+---------------+-----+--------+---------------------+--------------+\n",
      "|Line|   Short Description|           Hierarchy|Unit of Measure|Price|Currency|Delivery Time in Days|Price Quantity|\n",
      "+----+--------------------+--------------------+---------------+-----+--------+---------------------+--------------+\n",
      "|   1|Materials Enginee...|Personnel Monthly...|         Months|475.0|     USD|                  1.0|           1.0|\n",
      "|   2|Materials Analyst...|Personnel Monthly...|         Months|200.0|     USD|                  1.0|           1.0|\n",
      "|   3|Buyer - Non-National|Personnel Monthly...|         Months|875.0|     USD|                  1.0|           1.0|\n",
      "|   4|Purchasing Analys...|Personnel Monthly...|         Months|875.0|     USD|                  1.0|           1.0|\n",
      "|   5|Monthly Service C...|      Service Charge|         Months|513.0|     USD|                  1.0|           1.0|\n",
      "|   6|Materials Enginee...|Personnel Monthly...|         Months|475.0|     USD|                  1.0|           1.0|\n",
      "|   7|Materials Enginee...|Personnel Monthly...|         Months|825.0|     USD|                  1.0|           1.0|\n",
      "|   8|Materials Analyst...|Personnel Monthly...|         Months|200.0|     USD|                  1.0|           1.0|\n",
      "|   9|Materials Analyst...|Personnel Monthly...|         Months|875.0|     USD|                  1.0|           1.0|\n",
      "|  10|    Buyer - National|Personnel Monthly...|         Months|350.0|     USD|                  1.0|           1.0|\n",
      "|  11|Buyer - Non-National|Personnel Monthly...|         Months|875.0|     USD|                  1.0|           1.0|\n",
      "|  12|Purchasing Analys...|Personnel Monthly...|         Months|350.0|     USD|                  1.0|           1.0|\n",
      "|  13|Purchasing Analys...|Personnel Monthly...|         Months|875.0|     USD|                  1.0|           1.0|\n",
      "|  14|Contractor's Repr...|Personnel Monthly...|         Months|300.0|     USD|                  1.0|           1.0|\n",
      "|  15|Contractors Rep N...|Personnel Monthly...|         Months| 50.0|     USD|                  1.0|           1.0|\n",
      "|  16|Store Keeper - Na...|Personnel Monthly...|         Months| 34.0|     USD|                  1.0|           1.0|\n",
      "|  17|Store Keeper - No...|Personnel Monthly...|         Months|789.0|     USD|                  1.0|           1.0|\n",
      "|  18|Technical Assista...|Personnel Monthly...|         Months|300.0|     USD|                  1.0|           1.0|\n",
      "|  19|Technical Assista...|Personnel Monthly...|         Months|400.0|     USD|                  1.0|           1.0|\n",
      "|  20|Clerk Typist - Na...|Personnel Monthly...|         Months|600.0|     USD|                  1.0|           1.0|\n",
      "+----+--------------------+--------------------+---------------+-----+--------+---------------------+--------------+\n",
      "only showing top 20 rows\n",
      "\n"
     ]
    }
   ],
   "source": [
    "import numpy as np\n",
    "import pandas as pd\n",
    "from pyspark.ml.feature import VectorAssembler\n",
    "from pyspark.ml.feature import StringIndexer\n",
    "from pyspark.ml.feature import OneHotEncoder\n",
    "from pyspark.ml import Pipeline\n",
    "\n",
    "from pyspark.ml.clustering import KMeans,KMeansModel\n",
    "\n",
    "\n",
    "sqlContext = SQLContext(sc)\n",
    "df = sqlContext.read.csv(\"D:\\\\bigdata\\\\spark\\\\testdata\\\\2032Lines.csv\", header=True) # requires spark 2.0\n",
    "#df.select('Line').show()\n",
    "df.show()\n",
    "df = df.withColumn('Price',df['Price'].cast('float'))\n",
    "df = df.withColumn('Price Quantity',df['Price Quantity'].cast('float'))\n",
    "df = df.withColumn('Delivery Time in Days',df['Delivery Time in Days'].cast('float'))\n",
    "df = df.na.drop()\n",
    "df.show()\n",
    "hierarchyidx = StringIndexer().setInputCol(\"Hierarchy\").setOutputCol(\"hierarchy_idx\")\n",
    "hierarchyenc=OneHotEncoder().setInputCol(\"hierarchy_idx\").setOutputCol(\"hierarchy_idx_enc\")\n",
    "unitofmeasureidx = StringIndexer(inputCol=\"Unit of Measure\", outputCol=\"unitofmeasure_idx\")\n",
    "short_descidx = StringIndexer(inputCol=\"Short Description\", outputCol=\"short_desc_idx\")\n",
    "Currencyidx = StringIndexer(inputCol=\"Currency\", outputCol=\"currency_idx\")\n",
    "currency_idxEncoder = OneHotEncoder(inputCol=\"currency_idx\", outputCol=\"currency_idx_vec\")\n",
    "\n",
    "#kmeans = KMeans().setK(k).setSeed(1).setFeaturesCol(\"features\")\n",
    "assembler = VectorAssembler(inputCols=[\"Price\",\"Price Quantity\",\"Delivery Time in Days\",\"hierarchy_idx_enc\",\"unitofmeasure_idx\",\"short_desc_idx\",\"currency_idx_vec\"],outputCol=\"features\")\n",
    "#pipeline = Pipeline(stages=[hierarchyidx,hierarchyenc,unitofmeasureidx,short_descidx,Currencyidx,currency_idxEncoder, assembler, kmeans])                      \n",
    "#model = pipeline.fit(df)\n",
    "#predictions = model.transform(df)\n",
    "#print(model.__dict__)\n",
    "#print(model.stages[-1].computeCost(predictions))\n",
    "# Predictions\n",
    "\n",
    "\n",
    "\n",
    "# Select example rows to display.\n",
    "#predictions.columns \n",
    "\n",
    "\n",
    "cost = np.zeros(20)\n",
    "for k in range(2,20):\n",
    "    kmeans = KMeans().setK(k).setSeed(1).setFeaturesCol(\"features\")\n",
    "    pipeline = Pipeline(stages=[hierarchyidx,hierarchyenc,unitofmeasureidx,short_descidx,Currencyidx,currency_idxEncoder, assembler, kmeans])                      \n",
    "    model = pipeline.fit(df)\n",
    "    predictions = model.transform(df)\n",
    "    cost[k] = model.stages[-1].computeCost(predictions)\n",
    " \n",
    "   \n",
    "    \n",
    "\n",
    "\n"
   ]
  },
  {
   "cell_type": "code",
   "execution_count": 23,
   "metadata": {},
   "outputs": [
    {
     "data": {
      "text/plain": [
       "Text(0,0.5,'cost')"
      ]
     },
     "execution_count": 23,
     "metadata": {},
     "output_type": "execute_result"
    },
    {
     "data": {
      "image/png": "[encoded data removed]",
      "text/plain": [
       "<Figure size 576x432 with 1 Axes>"
      ]
     },
     "metadata": {},
     "output_type": "display_data"
    }
   ],
   "source": [
    "import numpy as np\n",
    "import pandas as pd\n",
    "import matplotlib.pyplot as plt\n",
    "from mpl_toolkits.mplot3d import Axes3D\n",
    "from sklearn.datasets.samples_generator import make_blobs\n",
    "\n",
    "fig, ax = plt.subplots(1,1, figsize =(8,6))\n",
    "ax.plot(range(2,20),cost[2:20])\n",
    "ax.set_xlabel('k')\n",
    "ax.set_ylabel('cost')"
   ]
  },
  {
   "cell_type": "code",
   "execution_count": 24,
   "metadata": {},
   "outputs": [
    {
     "name": "stdout",
     "output_type": "stream",
     "text": [
      "62161.21984126976\n",
      "Cluster Centers: \n",
      "[666.   1.   1.   1.   0.   0.  32.   0.]\n",
      "[352.66666667   1.           1.           0.55555556   0.44444444\n",
      "   0.          44.16666667   0.83333333]\n",
      "[171.42857143   1.           1.           1.           0.\n",
      "   0.          19.28571429   0.71428571]\n",
      "[877.16666667   1.           1.           1.           0.\n",
      "   0.           9.33333333   1.        ]\n",
      "[4.711e+02 1.000e+00 1.000e+00 9.000e-01 1.000e-01 0.000e+00 2.040e+01\n",
      " 8.000e-01]\n",
      "[29.57142857  1.          1.          1.          0.          0.\n",
      " 23.71428571  0.71428571]\n",
      "[563.125   1.      1.      1.      0.      0.     37.25    0.75 ]\n",
      "[5.01857143e+02 1.00000000e+00 1.00000000e+00 7.14285714e-01\n",
      " 1.42857143e-01 0.00000000e+00 5.32857143e+01 1.00000000e+00]\n",
      "[7.98875e+02 1.00000e+00 1.00000e+00 6.25000e-01 3.75000e-01 0.00000e+00\n",
      " 3.83750e+01 8.75000e-01]\n",
      "[7.25e+02 1.00e+00 1.00e+00 7.50e-01 2.50e-01 0.00e+00 4.90e+01 1.00e+00]\n"
     ]
    }
   ],
   "source": [
    "k = 10\n",
    "kmeans = KMeans().setK(k).setSeed(1).setFeaturesCol(\"features\")\n",
    "pipeline = Pipeline(stages=[hierarchyidx,hierarchyenc,unitofmeasureidx,short_descidx,Currencyidx,currency_idxEncoder, assembler, kmeans])                      \n",
    "model = pipeline.fit(df)\n",
    "predictions = model.transform(df)\n",
    "cost = model.stages[-1].computeCost(predictions)\n",
    "print(cost)\n",
    "centers = model.stages[-1].clusterCenters()\n",
    "\n",
    "print(\"Cluster Centers: \")\n",
    "for center in centers:\n",
    "    print(center)\n"
   ]
  },
  {
   "cell_type": "code",
   "execution_count": 27,
   "metadata": {},
   "outputs": [
    {
     "name": "stdout",
     "output_type": "stream",
     "text": [
      "+----+----------+\n",
      "|Line|prediction|\n",
      "+----+----------+\n",
      "|   1|         4|\n",
      "|   2|         2|\n",
      "|   3|         3|\n",
      "|   4|         3|\n",
      "|   5|         7|\n",
      "|   6|         4|\n",
      "|   7|         8|\n",
      "|   8|         2|\n",
      "|   9|         3|\n",
      "|  10|         1|\n",
      "|  11|         3|\n",
      "|  12|         1|\n",
      "|  13|         3|\n",
      "|  14|         1|\n",
      "|  15|         5|\n",
      "|  16|         5|\n",
      "|  17|         8|\n",
      "|  18|         1|\n",
      "|  19|         1|\n",
      "|  20|         6|\n",
      "+----+----------+\n",
      "only showing top 20 rows\n",
      "\n",
      "+----+----------+--------------------+--------------------+---------------+-----+--------+---------------------+--------------+\n",
      "|Line|prediction|   Short Description|           Hierarchy|Unit of Measure|Price|Currency|Delivery Time in Days|Price Quantity|\n",
      "+----+----------+--------------------+--------------------+---------------+-----+--------+---------------------+--------------+\n",
      "|   1|         4|Materials Enginee...|Personnel Monthly...|         Months|475.0|     USD|                  1.0|           1.0|\n",
      "|   2|         2|Materials Analyst...|Personnel Monthly...|         Months|200.0|     USD|                  1.0|           1.0|\n",
      "|   3|         3|Buyer - Non-National|Personnel Monthly...|         Months|875.0|     USD|                  1.0|           1.0|\n",
      "|   4|         3|Purchasing Analys...|Personnel Monthly...|         Months|875.0|     USD|                  1.0|           1.0|\n",
      "|   5|         7|Monthly Service C...|      Service Charge|         Months|513.0|     USD|                  1.0|           1.0|\n",
      "|   6|         4|Materials Enginee...|Personnel Monthly...|         Months|475.0|     USD|                  1.0|           1.0|\n",
      "|   7|         8|Materials Enginee...|Personnel Monthly...|         Months|825.0|     USD|                  1.0|           1.0|\n",
      "|   8|         2|Materials Analyst...|Personnel Monthly...|         Months|200.0|     USD|                  1.0|           1.0|\n",
      "|   9|         3|Materials Analyst...|Personnel Monthly...|         Months|875.0|     USD|                  1.0|           1.0|\n",
      "|  10|         1|    Buyer - National|Personnel Monthly...|         Months|350.0|     USD|                  1.0|           1.0|\n",
      "|  11|         3|Buyer - Non-National|Personnel Monthly...|         Months|875.0|     USD|                  1.0|           1.0|\n",
      "|  12|         1|Purchasing Analys...|Personnel Monthly...|         Months|350.0|     USD|                  1.0|           1.0|\n",
      "|  13|         3|Purchasing Analys...|Personnel Monthly...|         Months|875.0|     USD|                  1.0|           1.0|\n",
      "|  14|         1|Contractor's Repr...|Personnel Monthly...|         Months|300.0|     USD|                  1.0|           1.0|\n",
      "|  15|         5|Contractors Rep N...|Personnel Monthly...|         Months| 50.0|     USD|                  1.0|           1.0|\n",
      "|  16|         5|Store Keeper - Na...|Personnel Monthly...|         Months| 34.0|     USD|                  1.0|           1.0|\n",
      "|  17|         8|Store Keeper - No...|Personnel Monthly...|         Months|789.0|     USD|                  1.0|           1.0|\n",
      "|  18|         1|Technical Assista...|Personnel Monthly...|         Months|300.0|     USD|                  1.0|           1.0|\n",
      "|  19|         1|Technical Assista...|Personnel Monthly...|         Months|400.0|     USD|                  1.0|           1.0|\n",
      "|  20|         6|Clerk Typist - Na...|Personnel Monthly...|         Months|600.0|     USD|                  1.0|           1.0|\n",
      "+----+----------+--------------------+--------------------+---------------+-----+--------+---------------------+--------------+\n",
      "only showing top 20 rows\n",
      "\n"
     ]
    }
   ],
   "source": [
    "transformed = predictions.select('Line', 'prediction')\n",
    "rows = transformed.collect()\n",
    "df_pred = sqlContext.createDataFrame(rows)\n",
    "df_pred.show()\n",
    "df_pred = df_pred.join(df, 'Line')\n",
    "df_pred.show()"
   ]
  },
  {
   "cell_type": "code",
   "execution_count": 48,
   "metadata": {
    "scrolled": true
   },
   "outputs": [
    {
     "name": "stderr",
     "output_type": "stream",
     "text": [
      "d:\\users\\245-0117\\appdata\\local\\programs\\python\\python36\\lib\\site-packages\\ipykernel_launcher.py:6: DeprecationWarning: \n",
      ".ix is deprecated. Please use\n",
      ".loc for label based indexing or\n",
      ".iloc for positional indexing\n",
      "\n",
      "See the documentation here:\n",
      "http://pandas.pydata.org/pandas-docs/stable/indexing.html#ix-indexer-is-deprecated\n",
      "  \n"
     ]
    },
    {
     "data": {
      "image/png": "[encoded data removed]",
      "text/plain": [
       "<Figure size 432x288 with 1 Axes>"
      ]
     },
     "metadata": {},
     "output_type": "display_data"
    }
   ],
   "source": [
    "pddf_pred = df_pred.toPandas().set_index('Line')\n",
    "pddf_pred.head()\n",
    "\n",
    "y = pddf_pred['prediction']\n",
    "pddf_pred['Currency_N'] = pddf_pred['Currency'].map({'USD': 1.0, 'SAR': 2.0})\n",
    "X = pddf_pred.ix[:, 'Short Description':]\n",
    "\n",
    "\n",
    "plt.scatter(X[y==1]['Price'], X[y==1]['Currency_N'], label='Predict 1', c='red')\n",
    "plt.scatter(X[y==2]['Price'], X[y==2]['Currency_N'], label='Predict 2', c='blue')\n",
    "plt.scatter(X[y==3]['Price'], X[y==3]['Currency_N'], label='Predict 3', c='lightgreen')\n",
    "\n",
    "\n",
    "# Prettify the graph\n",
    "plt.legend()\n",
    "plt.xlabel('Price')\n",
    "plt.ylabel('Currency')\n",
    "\n",
    "# display\n",
    "plt.show()\n",
    "\n"
   ]
  }
 ],
 "metadata": {
  "kernelspec": {
   "display_name": "Python 3",
   "language": "python",
   "name": "python3"
  },
  "language_info": {
   "codemirror_mode": {
    "name": "ipython",
    "version": 3
   },
   "file_extension": ".py",
   "mimetype": "text/x-python",
   "name": "python",
   "nbconvert_exporter": "python",
   "pygments_lexer": "ipython3",
   "version": "3.6.1"
  }
 },
 "nbformat": 4,
 "nbformat_minor": 2
}
